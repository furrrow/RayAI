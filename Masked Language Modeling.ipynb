{
 "cells": [
  {
   "cell_type": "markdown",
   "source": [
    "# source:\n",
    "https://towardsdatascience.com/fine-tuning-for-domain-adaptation-in-nlp-c47def356fd6\n",
    "# also checkout huggingface source on masked language modeling\n",
    "https://huggingface.co/docs/transformers/tasks/masked_language_modeling\n",
    "# datasets:\n",
    "https://www.kaggle.com/datasets/mrisdal/fake-news"
   ],
   "metadata": {
    "collapsed": false
   }
  },
  {
   "cell_type": "code",
   "execution_count": 1,
   "outputs": [],
   "source": [
    "import multiprocessing\n",
    "import pandas as pd\n",
    "import math\n",
    "from sklearn.model_selection import train_test_split\n",
    "from datasets import Dataset\n",
    "from transformers import AutoModelForMaskedLM\n",
    "from transformers import AutoTokenizer, AutoConfig\n",
    "from transformers import BertForMaskedLM, DistilBertForMaskedLM\n",
    "from transformers import BertTokenizer, DistilBertTokenizer\n",
    "from transformers import RobertaTokenizer, RobertaForMaskedLM\n",
    "from transformers import Trainer, TrainingArguments\n",
    "from transformers import DataCollatorForLanguageModeling"
   ],
   "metadata": {
    "collapsed": false,
    "ExecuteTime": {
     "end_time": "2023-06-13T02:31:16.473721057Z",
     "start_time": "2023-06-13T02:31:15.066531653Z"
    }
   }
  },
  {
   "cell_type": "code",
   "execution_count": 2,
   "outputs": [],
   "source": [
    "# HYPERPARAMS\n",
    "SEED_SPLIT = 0\n",
    "SEED_TRAIN = 0\n",
    "\n",
    "MAX_SEQ_LEN = 128\n",
    "TRAIN_BATCH_SIZE = 16\n",
    "EVAL_BATCH_SIZE = 16\n",
    "LEARNING_RATE = 2e-5\n",
    "LR_WARMUP_STEPS = 100\n",
    "WEIGHT_DECAY = 0.01"
   ],
   "metadata": {
    "collapsed": false,
    "ExecuteTime": {
     "end_time": "2023-06-13T02:31:16.475801585Z",
     "start_time": "2023-06-13T02:31:16.474832160Z"
    }
   }
  },
  {
   "cell_type": "code",
   "execution_count": 3,
   "outputs": [],
   "source": [
    "# load data\n",
    "dtf_mlm = pd.read_csv('data/news-adaptive-tuning_dataset.csv')\n",
    "#dtf_mlm = dtf_mlm.rename(columns={\"review_content\": \"text\"})\n",
    "\n",
    "# Train/Valid Split\n",
    "df_train, df_valid = train_test_split(\n",
    "    dtf_mlm, test_size=0.15, random_state=SEED_SPLIT\n",
    ")\n",
    "\n",
    "len(df_train), len(df_valid)\n",
    "\n",
    "# Convert to Dataset object\n",
    "train_dataset = Dataset.from_pandas(df_train[['text']].dropna())\n",
    "valid_dataset = Dataset.from_pandas(df_valid[['text']].dropna())"
   ],
   "metadata": {
    "collapsed": false,
    "ExecuteTime": {
     "end_time": "2023-06-13T02:31:16.907422245Z",
     "start_time": "2023-06-13T02:31:16.477111876Z"
    }
   }
  },
  {
   "cell_type": "code",
   "execution_count": 4,
   "outputs": [],
   "source": [
    "\n",
    "\"\"\"\n",
    "bert-base-uncased  # 12-layer, 768-hidden, 12-heads, 109M parameters\n",
    "distilbert-base-uncased  # 6-layer, 768-hidden, 12-heads, 65M parameters\n",
    "\"\"\"\n",
    "\n",
    "MODEL = \"distilbert\" # 'bert'\n",
    "bert_type = \"distilbert-base-uncased\" # 'bert-base-cased'\n",
    "\n",
    "if MODEL == 'distilbert':\n",
    "    TokenizerClass = DistilBertTokenizer\n",
    "    ModelClass = DistilBertForMaskedLM\n",
    "elif MODEL == 'bert':\n",
    "    TokenizerClass = BertTokenizer\n",
    "    ModelClass = BertForMaskedLM\n",
    "elif MODEL == 'roberta':\n",
    "    TokenizerClass = RobertaTokenizer\n",
    "    ModelClass = RobertaForMaskedLM\n",
    "elif MODEL == 'scibert':\n",
    "    TokenizerClass = AutoTokenizer\n",
    "    ModelClass = AutoModelForMaskedLM\n",
    "\n",
    "\n",
    "tokenizer = TokenizerClass.from_pretrained(\n",
    "    bert_type, use_fast=True, do_lower_case=False, max_len=MAX_SEQ_LEN\n",
    ")\n",
    "model = ModelClass.from_pretrained(bert_type)"
   ],
   "metadata": {
    "collapsed": false,
    "ExecuteTime": {
     "end_time": "2023-06-13T02:31:17.463436127Z",
     "start_time": "2023-06-13T02:31:16.908119996Z"
    }
   }
  },
  {
   "cell_type": "code",
   "execution_count": 5,
   "outputs": [
    {
     "data": {
      "text/plain": "Map (num_proc=16):   0%|          | 0/11014 [00:00<?, ? examples/s]",
      "application/vnd.jupyter.widget-view+json": {
       "version_major": 2,
       "version_minor": 0,
       "model_id": "6c1296b5877a454d8265ff7b068bff4b"
      }
     },
     "metadata": {},
     "output_type": "display_data"
    },
    {
     "data": {
      "text/plain": "Map (num_proc=16):   0%|          | 0/1939 [00:00<?, ? examples/s]",
      "application/vnd.jupyter.widget-view+json": {
       "version_major": 2,
       "version_minor": 0,
       "model_id": "3f23e0bfaeb3474c8b9563446a43ced6"
      }
     },
     "metadata": {},
     "output_type": "display_data"
    }
   ],
   "source": [
    "def tokenize_function(row):\n",
    "    return tokenizer(\n",
    "        row['text'],\n",
    "        padding='max_length',\n",
    "        truncation=True,\n",
    "        max_length=MAX_SEQ_LEN,\n",
    "        return_special_tokens_mask=True)\n",
    "\n",
    "column_names = train_dataset.column_names\n",
    "\n",
    "train_dataset = train_dataset.map(\n",
    "    tokenize_function,\n",
    "    batched=True,\n",
    "    num_proc=multiprocessing.cpu_count(),\n",
    "    remove_columns=column_names,\n",
    ")\n",
    "\n",
    "valid_dataset = valid_dataset.map(\n",
    "    tokenize_function,\n",
    "    batched=True,\n",
    "    num_proc=multiprocessing.cpu_count(),\n",
    "    remove_columns=column_names,\n",
    ")"
   ],
   "metadata": {
    "collapsed": false,
    "ExecuteTime": {
     "end_time": "2023-06-13T02:31:28.157729895Z",
     "start_time": "2023-06-13T02:31:17.464001698Z"
    }
   }
  },
  {
   "cell_type": "code",
   "execution_count": 6,
   "outputs": [
    {
     "name": "stderr",
     "output_type": "stream",
     "text": [
      "/home/jim/mambaforge/envs/ray/lib/python3.10/site-packages/transformers/optimization.py:407: FutureWarning: This implementation of AdamW is deprecated and will be removed in a future version. Use the PyTorch implementation torch.optim.AdamW instead, or set `no_deprecation_warning=True` to disable this warning\n",
      "  warnings.warn(\n"
     ]
    },
    {
     "data": {
      "text/plain": "<IPython.core.display.HTML object>",
      "text/html": "\n    <div>\n      \n      <progress value='2' max='1378' style='width:300px; height:20px; vertical-align: middle;'></progress>\n      [   2/1378 : < :, Epoch 0.00/2]\n    </div>\n    <table border=\"1\" class=\"dataframe\">\n  <thead>\n <tr style=\"text-align: left;\">\n      <th>Epoch</th>\n      <th>Training Loss</th>\n      <th>Validation Loss</th>\n    </tr>\n  </thead>\n  <tbody>\n  </tbody>\n</table><p>"
     },
     "metadata": {},
     "output_type": "display_data"
    }
   ],
   "source": [
    "data_collator = DataCollatorForLanguageModeling(\n",
    "    tokenizer=tokenizer, mlm=True, mlm_probability=0.15\n",
    ")\n",
    "\n",
    "\n",
    "steps_per_epoch = int(len(train_dataset) / TRAIN_BATCH_SIZE)\n",
    "\n",
    "training_args = TrainingArguments(\n",
    "    output_dir='./bert-news',\n",
    "    logging_dir='./LMlogs',\n",
    "    num_train_epochs=2,\n",
    "    do_train=True,\n",
    "    do_eval=True,\n",
    "    per_device_train_batch_size=TRAIN_BATCH_SIZE,\n",
    "    per_device_eval_batch_size=EVAL_BATCH_SIZE,\n",
    "    warmup_steps=LR_WARMUP_STEPS,\n",
    "    save_steps=steps_per_epoch,\n",
    "    save_total_limit=3,\n",
    "    weight_decay=WEIGHT_DECAY,\n",
    "    learning_rate=LEARNING_RATE,\n",
    "    evaluation_strategy='epoch',\n",
    "    save_strategy='epoch',\n",
    "    load_best_model_at_end=True,\n",
    "    metric_for_best_model='loss',\n",
    "    greater_is_better=False,\n",
    "    seed=SEED_TRAIN\n",
    ")\n",
    "\n",
    "trainer = Trainer(\n",
    "    model=model,\n",
    "    args=training_args,\n",
    "    data_collator=data_collator,\n",
    "    train_dataset=train_dataset,\n",
    "    eval_dataset=valid_dataset,\n",
    "    tokenizer=tokenizer,\n",
    ")\n",
    "\n",
    "trainer.train()\n",
    "trainer.save_model(\"./model\") #save your custom model"
   ],
   "metadata": {
    "collapsed": false,
    "ExecuteTime": {
     "end_time": "2023-06-13T02:35:31.042449195Z",
     "start_time": "2023-06-13T02:31:28.160774669Z"
    }
   }
  },
  {
   "cell_type": "code",
   "execution_count": 19,
   "outputs": [
    {
     "data": {
      "text/plain": "<IPython.core.display.HTML object>",
      "text/html": "\n    <div>\n      \n      <progress value='1' max='243' style='width:300px; height:20px; vertical-align: middle;'></progress>\n      [  1/243 : < :]\n    </div>\n    "
     },
     "metadata": {},
     "output_type": "display_data"
    },
    {
     "name": "stdout",
     "output_type": "stream",
     "text": [
      "Evaluation results:  {'eval_loss': 3.8339345455169678, 'eval_runtime': 6.2945, 'eval_samples_per_second': 308.046, 'eval_steps_per_second': 38.605}\n",
      "Perplexity: 46.244\n",
      "----------------\n",
      "\n"
     ]
    }
   ],
   "source": [
    "original_tokenizer = AutoTokenizer.from_pretrained('distilbert-base-uncased', use_fast = False, do_lower_case=True)\n",
    "original_model = AutoModelForMaskedLM.from_pretrained('distilbert-base-uncased')\n",
    "\n",
    "trainer = Trainer(\n",
    "    model=original_model,\n",
    "    data_collator=data_collator,\n",
    "    #train_dataset=tokenized_dataset_2['train'],\n",
    "    eval_dataset=valid_dataset,\n",
    "    tokenizer=original_tokenizer,\n",
    "    )\n",
    "\n",
    "eval_results = trainer.evaluate()\n",
    "\n",
    "print('Evaluation results: ', eval_results)\n",
    "print(f\"Perplexity: {math.exp(eval_results['eval_loss']):.3f}\")\n",
    "print('----------------\\n')"
   ],
   "metadata": {
    "collapsed": false,
    "ExecuteTime": {
     "end_time": "2023-06-13T02:55:45.038843872Z",
     "start_time": "2023-06-13T02:55:38.166453476Z"
    }
   }
  },
  {
   "cell_type": "code",
   "execution_count": 30,
   "outputs": [
    {
     "name": "stdout",
     "output_type": "stream",
     "text": [
      "['pregnant', 'absent', 'gay', 'interviewed', 'unavailable']\n",
      "['mayor', 'incumbent', 'married', 'elected', 'gay']\n"
     ]
    }
   ],
   "source": [
    "from transformers import pipeline\n",
    "unmasker = pipeline(\"fill-mask\", model=original_model, tokenizer=original_tokenizer, device=0)\n",
    "result = unmasker(\"Fox News Reports Hillary is [MASK].\")\n",
    "print([r[\"token_str\"] for r in result])\n",
    "\n",
    "result = unmasker(\"Joe Biden is [MASK].\")\n",
    "print([r[\"token_str\"] for r in result])"
   ],
   "metadata": {
    "collapsed": false,
    "ExecuteTime": {
     "end_time": "2023-06-13T03:00:05.962969666Z",
     "start_time": "2023-06-13T03:00:05.947603377Z"
    }
   }
  },
  {
   "cell_type": "code",
   "execution_count": 31,
   "outputs": [
    {
     "name": "stdout",
     "output_type": "stream",
     "text": [
      "Model:  ./model\n"
     ]
    },
    {
     "data": {
      "text/plain": "<IPython.core.display.HTML object>",
      "text/html": "\n    <div>\n      \n      <progress value='1' max='243' style='width:300px; height:20px; vertical-align: middle;'></progress>\n      [  1/243 : < :]\n    </div>\n    "
     },
     "metadata": {},
     "output_type": "display_data"
    },
    {
     "name": "stdout",
     "output_type": "stream",
     "text": [
      "Evaluation results:  {'eval_loss': 2.3848471641540527, 'eval_runtime': 6.8188, 'eval_samples_per_second': 284.362, 'eval_steps_per_second': 35.637}\n",
      "Perplexity: 10.857\n",
      "----------------\n",
      "\n"
     ]
    }
   ],
   "source": [
    "import glob\n",
    "import math\n",
    "\n",
    "path = \"./model\"\n",
    "\n",
    "for modelpath in glob.iglob(path):\n",
    "    print('Model: ', modelpath)\n",
    "    new_tokenizer = AutoTokenizer.from_pretrained(modelpath, use_fast = False, do_lower_case=True)\n",
    "    new_model = AutoModelForMaskedLM.from_pretrained(modelpath)\n",
    "\n",
    "    trainer = Trainer(\n",
    "        model=new_model,\n",
    "        data_collator=data_collator,\n",
    "        #train_dataset=tokenized_dataset_2['train'],\n",
    "        eval_dataset=valid_dataset,\n",
    "        tokenizer=new_tokenizer,\n",
    "    )\n",
    "\n",
    "    eval_results = trainer.evaluate()\n",
    "\n",
    "    print('Evaluation results: ', eval_results)\n",
    "    print(f\"Perplexity: {math.exp(eval_results['eval_loss']):.3f}\")\n",
    "    print('----------------\\n')"
   ],
   "metadata": {
    "collapsed": false,
    "ExecuteTime": {
     "end_time": "2023-06-13T03:00:15.930252893Z",
     "start_time": "2023-06-13T03:00:08.624446767Z"
    }
   }
  },
  {
   "cell_type": "code",
   "execution_count": 32,
   "outputs": [
    {
     "name": "stdout",
     "output_type": "stream",
     "text": [
      "['pregnant', 'dead', 'absent', 'missing', 'gay']\n",
      "['elected', 'mayor', 'president', 'retired', 'retiring']\n"
     ]
    }
   ],
   "source": [
    "from transformers import pipeline\n",
    "unmasker = pipeline(\"fill-mask\", model=new_model, tokenizer=new_tokenizer, device=0)\n",
    "result = unmasker(\"Fox News Reports Hillary is [MASK].\")\n",
    "print([r[\"token_str\"] for r in result])\n",
    "\n",
    "result = unmasker(\"Joe Biden is [MASK].\")\n",
    "print([r[\"token_str\"] for r in result])"
   ],
   "metadata": {
    "collapsed": false,
    "ExecuteTime": {
     "end_time": "2023-06-13T03:00:15.978704386Z",
     "start_time": "2023-06-13T03:00:15.930703517Z"
    }
   }
  },
  {
   "cell_type": "code",
   "execution_count": null,
   "outputs": [],
   "source": [],
   "metadata": {
    "collapsed": false
   }
  }
 ],
 "metadata": {
  "kernelspec": {
   "display_name": "Python 3",
   "language": "python",
   "name": "python3"
  },
  "language_info": {
   "codemirror_mode": {
    "name": "ipython",
    "version": 2
   },
   "file_extension": ".py",
   "mimetype": "text/x-python",
   "name": "python",
   "nbconvert_exporter": "python",
   "pygments_lexer": "ipython2",
   "version": "2.7.6"
  }
 },
 "nbformat": 4,
 "nbformat_minor": 0
}
